{
 "cells": [
  {
   "cell_type": "markdown",
   "id": "ace07bf7",
   "metadata": {},
   "source": [
    "# 编译myfft\n",
    "我自己写的基2-DIT-FFT"
   ]
  },
  {
   "cell_type": "code",
   "execution_count": 2,
   "id": "d46e34cb",
   "metadata": {},
   "outputs": [
    {
     "data": {
      "text/plain": [
       "0"
      ]
     },
     "execution_count": 2,
     "metadata": {},
     "output_type": "execute_result"
    }
   ],
   "source": [
    "import os\n",
    "os.system(\"g++ ./myfft.cpp -O3 -o ./exe/myfft -lpthread\")\n",
    "# os.system(\"./myfft 4 ./array/array_16_0.txt ./out.txt\")"
   ]
  },
  {
   "cell_type": "markdown",
   "id": "edf6df53",
   "metadata": {},
   "source": [
    "# 编译gen\n",
    "用于生成测试数据"
   ]
  },
  {
   "cell_type": "code",
   "execution_count": 4,
   "id": "688c4046",
   "metadata": {},
   "outputs": [
    {
     "data": {
      "text/plain": [
       "0"
      ]
     },
     "execution_count": 4,
     "metadata": {},
     "output_type": "execute_result"
    }
   ],
   "source": [
    "import os\n",
    "os.system(\"g++ ./gen.cpp -O3 -o ./exe/gen\")"
   ]
  },
  {
   "cell_type": "markdown",
   "id": "1622cd40",
   "metadata": {},
   "source": [
    "# 编译测速myfft_timing"
   ]
  },
  {
   "cell_type": "code",
   "execution_count": 25,
   "id": "ee7649d6",
   "metadata": {},
   "outputs": [
    {
     "data": {
      "text/plain": [
       "0"
      ]
     },
     "execution_count": 25,
     "metadata": {},
     "output_type": "execute_result"
    }
   ],
   "source": [
    "import os\n",
    "os.system(\"g++ ./myfft_timing.cpp -O3 -o ./exe/myfft_timing -lpthread\")"
   ]
  },
  {
   "cell_type": "markdown",
   "id": "02f90ec6",
   "metadata": {},
   "source": [
    "# 编译测速fftw3_timing"
   ]
  },
  {
   "cell_type": "code",
   "execution_count": 21,
   "id": "821a616e",
   "metadata": {},
   "outputs": [
    {
     "data": {
      "text/plain": [
       "0"
      ]
     },
     "execution_count": 21,
     "metadata": {},
     "output_type": "execute_result"
    }
   ],
   "source": [
    "import os\n",
    "os.system(\"g++ ./fftw3_timing.cpp -O3 -o ./exe/fftw3_timing -lfftw3\")"
   ]
  },
  {
   "cell_type": "markdown",
   "id": "c6a33e3d",
   "metadata": {},
   "source": [
    "# 运行gen\n",
    "生成从$2^2$到$2^{23}$长的数组，每种10个"
   ]
  },
  {
   "cell_type": "code",
   "execution_count": null,
   "id": "0a748245",
   "metadata": {},
   "outputs": [],
   "source": [
    "import os\n",
    "for i in range(2,24):\n",
    "    print(\"./exe/gen \"+str(i))"
   ]
  },
  {
   "cell_type": "markdown",
   "id": "dec6ad2a",
   "metadata": {},
   "source": [
    "# 运行fftw3_timing"
   ]
  },
  {
   "cell_type": "code",
   "execution_count": 28,
   "id": "31b1209b",
   "metadata": {},
   "outputs": [
    {
     "name": "stdout",
     "output_type": "stream",
     "text": [
      "0.000495\n",
      "0.000493\n",
      "0.000519\n",
      "0.000566\n",
      "0.000515\n",
      "0.000549\n",
      "0.000580\n",
      "0.000618\n",
      "0.000633\n",
      "0.000817\n",
      "0.000917\n",
      "0.001370\n",
      "0.002120\n",
      "0.003703\n",
      "0.008297\n",
      "0.017197\n",
      "0.036068\n",
      "0.089062\n",
      "0.182180\n",
      "0.375512\n",
      "0.782970\n",
      "1.678055\n"
     ]
    }
   ],
   "source": [
    "import os\n",
    "for i in range(2,24):\n",
    "    os.system(\"./exe/fftw3_timing \"+str(i))"
   ]
  },
  {
   "cell_type": "markdown",
   "id": "a793e06b",
   "metadata": {},
   "source": [
    "# 运行myfft_timing"
   ]
  },
  {
   "cell_type": "code",
   "execution_count": 27,
   "id": "d12267f3",
   "metadata": {},
   "outputs": [
    {
     "name": "stdout",
     "output_type": "stream",
     "text": [
      "0.000646\n",
      "0.000185\n",
      "0.000237\n",
      "0.000258\n",
      "0.000303\n",
      "0.000515\n",
      "0.000353\n",
      "0.000326\n",
      "0.000419\n",
      "0.000643\n",
      "0.001026\n",
      "0.002517\n",
      "0.002873\n",
      "0.010418\n",
      "0.014390\n",
      "0.031434\n",
      "0.065079\n",
      "0.128842\n",
      "0.271394\n",
      "0.564445\n",
      "1.184179\n",
      "2.347761\n"
     ]
    }
   ],
   "source": [
    "import os\n",
    "for i in range(2,24):\n",
    "    os.system(\"./exe/myfft_timing \"+str(i))"
   ]
  },
  {
   "cell_type": "markdown",
   "id": "524c5243",
   "metadata": {},
   "source": [
    "# 数组长度较小时，将采取多次测试取平均的办法减少误差"
   ]
  },
  {
   "cell_type": "code",
   "execution_count": 21,
   "id": "92e3ef96",
   "metadata": {},
   "outputs": [
    {
     "name": "stdout",
     "output_type": "stream",
     "text": [
      "0.0004841\n",
      "0.0004648\n",
      "0.0004792\n",
      "0.0005721\n",
      "0.0005165\n",
      "0.0005583\n",
      "0.0005877\n",
      "0.0006166\n",
      "0.0006413\n",
      "0.0007778\n",
      "0.0009411\n",
      "0.0014038\n",
      "0.0020656\n",
      "0.0036779\n",
      "0.0085697\n",
      "0.0174431\n"
     ]
    }
   ],
   "source": [
    "import subprocess\n",
    "import numpy as np\n",
    "string = \"./exe/fftw3_timing\"\n",
    "for i in range(2,18):\n",
    "    output = []\n",
    "    for k in range(10):\n",
    "        result = subprocess.run([string,str(i)], stdout=subprocess.PIPE)\n",
    "        output.append(float((result.stdout.decode('utf-8'))))\n",
    "    print(\"%.7f\" % np.mean(output))"
   ]
  },
  {
   "cell_type": "code",
   "execution_count": 22,
   "id": "d0bde9af",
   "metadata": {},
   "outputs": [
    {
     "name": "stdout",
     "output_type": "stream",
     "text": [
      "0.0002121\n",
      "0.0001999\n",
      "0.0002194\n",
      "0.0002319\n",
      "0.0003365\n",
      "0.0002762\n",
      "0.0004319\n",
      "0.0003575\n",
      "0.0004628\n",
      "0.0013335\n",
      "0.0010498\n",
      "0.0016672\n",
      "0.0036552\n",
      "0.0066837\n",
      "0.0153729\n",
      "0.0318146\n"
     ]
    }
   ],
   "source": [
    "import subprocess\n",
    "import numpy as np\n",
    "string = \"./exe/myfft_timing\"\n",
    "for i in range(2,18):\n",
    "    output = []\n",
    "    for k in range(10):\n",
    "        result = subprocess.run([string,str(i)], stdout=subprocess.PIPE)\n",
    "        output.append(float((result.stdout.decode('utf-8'))))\n",
    "    print(\"%.7f\" % np.mean(output))"
   ]
  },
  {
   "cell_type": "markdown",
   "id": "6cf82db0",
   "metadata": {},
   "source": [
    "# 绘图"
   ]
  },
  {
   "cell_type": "code",
   "execution_count": 5,
   "id": "4bdacc64",
   "metadata": {},
   "outputs": [
    {
     "data": {
      "image/png": "[encoded data removed]",
      "text/plain": [
       "<Figure size 640x480 with 1 Axes>"
      ]
     },
     "metadata": {},
     "output_type": "display_data"
    }
   ],
   "source": [
    "import matplotlib.pyplot as plt\n",
    "\n",
    "x = [i for i in range(2,15)]\n",
    "fftw3_y = [0.0004841,0.0004648,0.0004792,0.0005721,0.0005165,0.0005583,0.0005877,0.0006166, \n",
    "           0.0006413,0.0007778,0.0009411,0.0014038,0.0020656]\n",
    "myfft_y = [0.0002121,0.0001999,0.0002194,0.0002319,0.0003365,0.0002762,0.0004319,0.0003575,\n",
    "           0.0004628,0.0013335,0.0010498,0.0016672,0.0036552]\n",
    "plt.scatter(x, fftw3_y, label='FFTW3')\n",
    "plt.scatter(x, myfft_y, label='MyFFT')\n",
    "plt.xlabel('The logarithm of array length (base 2)')\n",
    "plt.ylabel('Time: Unit s')\n",
    "plt.legend()\n",
    "plt.title('Comparison Chart of Time Changes -1')\n",
    "plt.show()"
   ]
  },
  {
   "cell_type": "code",
   "execution_count": 6,
   "id": "2db9037f",
   "metadata": {},
   "outputs": [
    {
     "data": {
      "image/png": "[encoded data removed]",
      "text/plain": [
       "<Figure size 640x480 with 1 Axes>"
      ]
     },
     "metadata": {},
     "output_type": "display_data"
    }
   ],
   "source": [
    "import matplotlib.pyplot as plt\n",
    "x = [i for i in range(15,24)]\n",
    "fftw3_y = [0.0036779,0.0085697,0.0174431,0.036068,0.089062,0.18218,0.375512,0.78297,1.678055]\n",
    "myfft_y = [0.0066837,0.0153729,0.0318146,0.065079,0.128842,0.271394,0.564445,1.184179,2.347761]\n",
    "plt.scatter(x, fftw3_y, label='FFTW3')\n",
    "plt.scatter(x, myfft_y, label='MyFFT')\n",
    "plt.xlabel('The logarithm of array length (base 2)')\n",
    "plt.ylabel('Time: Unit s')\n",
    "plt.legend()\n",
    "plt.title('Comparison Chart of Time Changes -2')\n",
    "plt.show()"
   ]
  },
  {
   "cell_type": "markdown",
   "id": "a78f3c9c",
   "metadata": {},
   "source": [
    "# 表格对比\n",
    "\n",
    "|2的幂次| fftw3用时（单位：s）   | myfft用时（单位：s）   | myfft 用时/fftw3 用时   |\n",
    "|------------|------------|------------|--------------|\n",
    "|2| 0.0004841  | 0.0002121  | 0.438132617  |\n",
    "|3| 0.0004648  | 0.0001999  | 0.430077453  |\n",
    "|4| 0.0004792  | 0.0002194  | 0.457846411  |\n",
    "|5| 0.0005721  | 0.0002319  | 0.405348715  |\n",
    "|6| 0.0005165  | 0.0003365  | 0.651500484  |\n",
    "|7| 0.0005583  | 0.0002762  | 0.494716102  |\n",
    "|8| 0.0005877  | 0.0004319  | 0.734898758  |\n",
    "|9| 0.0006166  | 0.0003575  | 0.57979241   |\n",
    "|10| 0.0006413  | 0.0004628  | 0.72165913   |\n",
    "|11| 0.0007778  | 0.0013335  | 1.714451016  |\n",
    "|12| 0.0009411  | 0.0010498  | 1.115503135  |\n",
    "|13| 0.0014038  | 0.0016672  | 1.187633566  |\n",
    "|14| 0.0020656  | 0.0036552  | 1.769558482  |\n",
    "|15| 0.0036779  | 0.0066837  | 1.817259849  |\n",
    "|16| 0.0085697  | 0.0153729  | 1.793866763  |\n",
    "|17| 0.0174431  | 0.0318146  | 1.823907448  |\n",
    "|18| 0.036068   | 0.065079   | 1.804341799  |\n",
    "|19| 0.089062   | 0.128842   | 1.446655139  |\n",
    "|20| 0.18218    | 0.271394   | 1.489702492  |\n",
    "|21| 0.375512   | 0.564445   | 1.503134387  |\n",
    "|22| 0.78297    | 1.184179   | 1.512419377  |\n",
    "|23| 1.678055   | 2.347761   | 1.399096573  |\n"
   ]
  },
  {
   "cell_type": "code",
   "execution_count": null,
   "id": "c5ee6297",
   "metadata": {},
   "outputs": [],
   "source": []
  }
 ],
 "metadata": {
  "kernelspec": {
   "display_name": "Python 3 (ipykernel)",
   "language": "python",
   "name": "python3"
  },
  "language_info": {
   "codemirror_mode": {
    "name": "ipython",
    "version": 3
   },
   "file_extension": ".py",
   "mimetype": "text/x-python",
   "name": "python",
   "nbconvert_exporter": "python",
   "pygments_lexer": "ipython3",
   "version": "3.10.9"
  }
 },
 "nbformat": 4,
 "nbformat_minor": 5
}
